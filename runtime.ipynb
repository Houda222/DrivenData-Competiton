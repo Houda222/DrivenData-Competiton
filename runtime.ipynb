{
 "cells": [
  {
   "cell_type": "markdown",
   "metadata": {},
   "source": [
    "### Dependencies"
   ]
  },
  {
   "cell_type": "code",
   "execution_count": 1,
   "metadata": {},
   "outputs": [
    {
     "name": "stderr",
     "output_type": "stream",
     "text": [
      "c:\\Users\\Lenovo\\AppData\\Local\\Programs\\Python\\Python39\\lib\\site-packages\\tqdm\\auto.py:21: TqdmWarning: IProgress not found. Please update jupyter and ipywidgets. See https://ipywidgets.readthedocs.io/en/stable/user_install.html\n",
      "  from .autonotebook import tqdm as notebook_tqdm\n",
      "The installed version of bitsandbytes was compiled without GPU support. 8-bit optimizers, 8-bit multiplication, and GPU quantization are unavailable.\n"
     ]
    }
   ],
   "source": [
    "import json\n",
    "from pathlib import Path\n",
    "\n",
    "import pandas as pd\n",
    "import numpy as np\n",
    "from loguru import logger\n",
    "import accelerate\n",
    "from transformers import AutoModelForCausalLM, BitsAndBytesConfig, AutoTokenizer\n",
    "import bitsandbytes as bnb\n",
    "import torch"
   ]
  },
  {
   "cell_type": "markdown",
   "metadata": {},
   "source": [
    "### Setting dirs "
   ]
  },
  {
   "cell_type": "code",
   "execution_count": 2,
   "metadata": {},
   "outputs": [
    {
     "name": "stdout",
     "output_type": "stream",
     "text": [
      "Using device: cpu\n"
     ]
    }
   ],
   "source": [
    "DEVICE = torch.device(\"cuda\" if torch.cuda.is_available() else \"cpu\")\n",
    "print(f\"Using device: {DEVICE}\")"
   ]
  },
  {
   "cell_type": "code",
   "execution_count": 6,
   "metadata": {},
   "outputs": [],
   "source": [
    "DATA_DIR = Path(\"D:\\Donnees\\Desktop\\AI\\DrivenDataComp2\\data\") # replace with path to your data\n",
    "features = pd.read_csv(\n",
    "    DATA_DIR / \"train_features.csv\", index_col=\"uid\"\n",
    ")\n",
    "labels = pd.read_csv(\n",
    "    DATA_DIR / \"train_labels.csv\", index_col=\"uid\"\n",
    ")\n",
    "submission_format = pd.read_csv(\n",
    "    DATA_DIR / \"submission_format.csv\", index_col=\"uid\"\n",
    ")"
   ]
  },
  {
   "cell_type": "markdown",
   "metadata": {},
   "source": [
    "from the comptetition's blogpost: In this notebook, we'll ignore NarrativeCME and use only NarrativeLE for simplicity. You may want to explore how better to consolidate information across these fields.\n"
   ]
  },
  {
   "cell_type": "markdown",
   "metadata": {},
   "source": [
    "### Data Preprocessing"
   ]
  },
  {
   "cell_type": "code",
   "execution_count": 7,
   "metadata": {},
   "outputs": [
    {
     "data": {
      "text/plain": [
       "(4000, 2)"
      ]
     },
     "execution_count": 7,
     "metadata": {},
     "output_type": "execute_result"
    }
   ],
   "source": [
    "# explore feature data\n",
    "features.shape"
   ]
  },
  {
   "cell_type": "code",
   "execution_count": 9,
   "metadata": {},
   "outputs": [
    {
     "data": {
      "text/plain": [
       "count    4000.000000\n",
       "mean      941.545750\n",
       "std       692.546272\n",
       "min       183.000000\n",
       "25%       497.000000\n",
       "50%       774.000000\n",
       "75%      1174.250000\n",
       "max      7487.000000\n",
       "Name: NarrativeLE, dtype: float64"
      ]
     },
     "execution_count": 9,
     "metadata": {},
     "output_type": "execute_result"
    }
   ],
   "source": [
    "features.NarrativeLE.str.len().describe()\n"
   ]
  },
  {
   "cell_type": "code",
   "execution_count": 10,
   "metadata": {},
   "outputs": [
    {
     "data": {
      "text/html": [
       "<div>\n",
       "<style scoped>\n",
       "    .dataframe tbody tr th:only-of-type {\n",
       "        vertical-align: middle;\n",
       "    }\n",
       "\n",
       "    .dataframe tbody tr th {\n",
       "        vertical-align: top;\n",
       "    }\n",
       "\n",
       "    .dataframe thead th {\n",
       "        text-align: right;\n",
       "    }\n",
       "</style>\n",
       "<table border=\"1\" class=\"dataframe\">\n",
       "  <thead>\n",
       "    <tr style=\"text-align: right;\">\n",
       "      <th></th>\n",
       "      <th>mean</th>\n",
       "      <th>50%</th>\n",
       "      <th>min</th>\n",
       "      <th>max</th>\n",
       "    </tr>\n",
       "  </thead>\n",
       "  <tbody>\n",
       "    <tr>\n",
       "      <th>DepressedMood</th>\n",
       "      <td>0.32800</td>\n",
       "      <td>0.0</td>\n",
       "      <td>0.0</td>\n",
       "      <td>1.0</td>\n",
       "    </tr>\n",
       "    <tr>\n",
       "      <th>MentalIllnessTreatmentCurrnt</th>\n",
       "      <td>0.25850</td>\n",
       "      <td>0.0</td>\n",
       "      <td>0.0</td>\n",
       "      <td>1.0</td>\n",
       "    </tr>\n",
       "    <tr>\n",
       "      <th>HistoryMentalIllnessTreatmnt</th>\n",
       "      <td>0.37250</td>\n",
       "      <td>0.0</td>\n",
       "      <td>0.0</td>\n",
       "      <td>1.0</td>\n",
       "    </tr>\n",
       "    <tr>\n",
       "      <th>SuicideAttemptHistory</th>\n",
       "      <td>0.20950</td>\n",
       "      <td>0.0</td>\n",
       "      <td>0.0</td>\n",
       "      <td>1.0</td>\n",
       "    </tr>\n",
       "    <tr>\n",
       "      <th>SuicideThoughtHistory</th>\n",
       "      <td>0.40950</td>\n",
       "      <td>0.0</td>\n",
       "      <td>0.0</td>\n",
       "      <td>1.0</td>\n",
       "    </tr>\n",
       "    <tr>\n",
       "      <th>SubstanceAbuseProblem</th>\n",
       "      <td>0.22900</td>\n",
       "      <td>0.0</td>\n",
       "      <td>0.0</td>\n",
       "      <td>1.0</td>\n",
       "    </tr>\n",
       "    <tr>\n",
       "      <th>MentalHealthProblem</th>\n",
       "      <td>0.48725</td>\n",
       "      <td>0.0</td>\n",
       "      <td>0.0</td>\n",
       "      <td>1.0</td>\n",
       "    </tr>\n",
       "    <tr>\n",
       "      <th>DiagnosisAnxiety</th>\n",
       "      <td>0.13375</td>\n",
       "      <td>0.0</td>\n",
       "      <td>0.0</td>\n",
       "      <td>1.0</td>\n",
       "    </tr>\n",
       "    <tr>\n",
       "      <th>DiagnosisDepressionDysthymia</th>\n",
       "      <td>0.36225</td>\n",
       "      <td>0.0</td>\n",
       "      <td>0.0</td>\n",
       "      <td>1.0</td>\n",
       "    </tr>\n",
       "    <tr>\n",
       "      <th>DiagnosisBipolar</th>\n",
       "      <td>0.06550</td>\n",
       "      <td>0.0</td>\n",
       "      <td>0.0</td>\n",
       "      <td>1.0</td>\n",
       "    </tr>\n",
       "    <tr>\n",
       "      <th>DiagnosisAdhd</th>\n",
       "      <td>0.05950</td>\n",
       "      <td>0.0</td>\n",
       "      <td>0.0</td>\n",
       "      <td>1.0</td>\n",
       "    </tr>\n",
       "    <tr>\n",
       "      <th>IntimatePartnerProblem</th>\n",
       "      <td>0.27975</td>\n",
       "      <td>0.0</td>\n",
       "      <td>0.0</td>\n",
       "      <td>1.0</td>\n",
       "    </tr>\n",
       "    <tr>\n",
       "      <th>FamilyRelationship</th>\n",
       "      <td>0.15425</td>\n",
       "      <td>0.0</td>\n",
       "      <td>0.0</td>\n",
       "      <td>1.0</td>\n",
       "    </tr>\n",
       "    <tr>\n",
       "      <th>Argument</th>\n",
       "      <td>0.22100</td>\n",
       "      <td>0.0</td>\n",
       "      <td>0.0</td>\n",
       "      <td>1.0</td>\n",
       "    </tr>\n",
       "    <tr>\n",
       "      <th>SchoolProblem</th>\n",
       "      <td>0.10175</td>\n",
       "      <td>0.0</td>\n",
       "      <td>0.0</td>\n",
       "      <td>1.0</td>\n",
       "    </tr>\n",
       "    <tr>\n",
       "      <th>RecentCriminalLegalProblem</th>\n",
       "      <td>0.07000</td>\n",
       "      <td>0.0</td>\n",
       "      <td>0.0</td>\n",
       "      <td>1.0</td>\n",
       "    </tr>\n",
       "    <tr>\n",
       "      <th>SuicideNote</th>\n",
       "      <td>0.33850</td>\n",
       "      <td>0.0</td>\n",
       "      <td>0.0</td>\n",
       "      <td>1.0</td>\n",
       "    </tr>\n",
       "    <tr>\n",
       "      <th>SuicideIntentDisclosed</th>\n",
       "      <td>0.27425</td>\n",
       "      <td>0.0</td>\n",
       "      <td>0.0</td>\n",
       "      <td>1.0</td>\n",
       "    </tr>\n",
       "    <tr>\n",
       "      <th>DisclosedToIntimatePartner</th>\n",
       "      <td>0.08475</td>\n",
       "      <td>0.0</td>\n",
       "      <td>0.0</td>\n",
       "      <td>1.0</td>\n",
       "    </tr>\n",
       "    <tr>\n",
       "      <th>DisclosedToOtherFamilyMember</th>\n",
       "      <td>0.09775</td>\n",
       "      <td>0.0</td>\n",
       "      <td>0.0</td>\n",
       "      <td>1.0</td>\n",
       "    </tr>\n",
       "    <tr>\n",
       "      <th>DisclosedToFriend</th>\n",
       "      <td>0.06350</td>\n",
       "      <td>0.0</td>\n",
       "      <td>0.0</td>\n",
       "      <td>1.0</td>\n",
       "    </tr>\n",
       "    <tr>\n",
       "      <th>InjuryLocationType</th>\n",
       "      <td>1.97675</td>\n",
       "      <td>1.0</td>\n",
       "      <td>1.0</td>\n",
       "      <td>6.0</td>\n",
       "    </tr>\n",
       "    <tr>\n",
       "      <th>WeaponType1</th>\n",
       "      <td>5.65300</td>\n",
       "      <td>5.0</td>\n",
       "      <td>1.0</td>\n",
       "      <td>12.0</td>\n",
       "    </tr>\n",
       "  </tbody>\n",
       "</table>\n",
       "</div>"
      ],
      "text/plain": [
       "                                 mean  50%  min   max\n",
       "DepressedMood                 0.32800  0.0  0.0   1.0\n",
       "MentalIllnessTreatmentCurrnt  0.25850  0.0  0.0   1.0\n",
       "HistoryMentalIllnessTreatmnt  0.37250  0.0  0.0   1.0\n",
       "SuicideAttemptHistory         0.20950  0.0  0.0   1.0\n",
       "SuicideThoughtHistory         0.40950  0.0  0.0   1.0\n",
       "SubstanceAbuseProblem         0.22900  0.0  0.0   1.0\n",
       "MentalHealthProblem           0.48725  0.0  0.0   1.0\n",
       "DiagnosisAnxiety              0.13375  0.0  0.0   1.0\n",
       "DiagnosisDepressionDysthymia  0.36225  0.0  0.0   1.0\n",
       "DiagnosisBipolar              0.06550  0.0  0.0   1.0\n",
       "DiagnosisAdhd                 0.05950  0.0  0.0   1.0\n",
       "IntimatePartnerProblem        0.27975  0.0  0.0   1.0\n",
       "FamilyRelationship            0.15425  0.0  0.0   1.0\n",
       "Argument                      0.22100  0.0  0.0   1.0\n",
       "SchoolProblem                 0.10175  0.0  0.0   1.0\n",
       "RecentCriminalLegalProblem    0.07000  0.0  0.0   1.0\n",
       "SuicideNote                   0.33850  0.0  0.0   1.0\n",
       "SuicideIntentDisclosed        0.27425  0.0  0.0   1.0\n",
       "DisclosedToIntimatePartner    0.08475  0.0  0.0   1.0\n",
       "DisclosedToOtherFamilyMember  0.09775  0.0  0.0   1.0\n",
       "DisclosedToFriend             0.06350  0.0  0.0   1.0\n",
       "InjuryLocationType            1.97675  1.0  1.0   6.0\n",
       "WeaponType1                   5.65300  5.0  1.0  12.0"
      ]
     },
     "execution_count": 10,
     "metadata": {},
     "output_type": "execute_result"
    }
   ],
   "source": [
    "# explore labels\n",
    "labels.describe().T[[\"mean\", \"50%\", \"min\", \"max\"]]"
   ]
  },
  {
   "cell_type": "markdown",
   "metadata": {},
   "source": [
    "### Model"
   ]
  },
  {
   "cell_type": "markdown",
   "metadata": {},
   "source": [
    "We will use the relatively lightweight Mistral-7B-Instruct-v0.2 model LLM for our solution."
   ]
  },
  {
   "cell_type": "code",
   "execution_count": null,
   "metadata": {},
   "outputs": [],
   "source": [
    "MODEL_DIR = Path(\"assets\")\n",
    "MODEL_DIR.mkdir(exist_ok=True, parents=True)"
   ]
  },
  {
   "cell_type": "code",
   "execution_count": null,
   "metadata": {},
   "outputs": [],
   "source": [
    "def save_model(device, model_name=\"mistralai/Mistral-7B-Instruct-v0.2\"):\n",
    "    logger.info(f\"Using device {device} to save model to {MODEL_DIR}\")\n",
    "\n",
    "    # use 4-bit quantization\n",
    "    quantization_config = BitsAndBytesConfig(\n",
    "        load_in_4bit=True,\n",
    "        bnb_4bit_compute_dtype=torch.float16,\n",
    "    )\n",
    "\n",
    "    logger.info(\"Downloading model\")\n",
    "    model = AutoModelForCausalLM.from_pretrained(\n",
    "        model_name, quantization_config=quantization_config, device_map=device\n",
    "    )\n",
    "    tokenizer = AutoTokenizer.from_pretrained(model_name)\n",
    "\n",
    "    logger.info(f\"Saving model to {MODEL_DIR}\")\n",
    "    model.save_pretrained(MODEL_DIR)\n",
    "    tokenizer.save_pretrained(MODEL_DIR)\n",
    "    logger.success(\"Model and tokenizer saved\")"
   ]
  },
  {
   "cell_type": "code",
   "execution_count": null,
   "metadata": {},
   "outputs": [],
   "source": [
    "if not (MODEL_DIR / \"config.json\").exists():\n",
    "    logger.info(\"Downloading model\")\n",
    "    save_model(DEVICE)\n",
    "else:\n",
    "    logger.info(\"Using existing local model\")"
   ]
  },
  {
   "cell_type": "code",
   "execution_count": null,
   "metadata": {},
   "outputs": [],
   "source": [
    "logger.info(f\"Loading model from {MODEL_DIR}, {MODEL_DIR.exists()}\")\n",
    "model = AutoModelForCausalLM.from_pretrained(\n",
    "    MODEL_DIR, device_map=DEVICE, local_files_only=True\n",
    ")\n",
    "tokenizer = AutoTokenizer.from_pretrained(MODEL_DIR)"
   ]
  }
 ],
 "metadata": {
  "kernelspec": {
   "display_name": "Python 3",
   "language": "python",
   "name": "python3"
  },
  "language_info": {
   "codemirror_mode": {
    "name": "ipython",
    "version": 3
   },
   "file_extension": ".py",
   "mimetype": "text/x-python",
   "name": "python",
   "nbconvert_exporter": "python",
   "pygments_lexer": "ipython3",
   "version": "3.9.13"
  }
 },
 "nbformat": 4,
 "nbformat_minor": 2
}
